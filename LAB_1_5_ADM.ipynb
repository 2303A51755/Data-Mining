{
  "nbformat": 4,
  "nbformat_minor": 0,
  "metadata": {
    "colab": {
      "provenance": [],
      "authorship_tag": "ABX9TyOir5as0Ea+tl7yLgB6KQ8l",
      "include_colab_link": true
    },
    "kernelspec": {
      "name": "python3",
      "display_name": "Python 3"
    },
    "language_info": {
      "name": "python"
    }
  },
  "cells": [
    {
      "cell_type": "markdown",
      "metadata": {
        "id": "view-in-github",
        "colab_type": "text"
      },
      "source": [
        "<a href=\"https://colab.research.google.com/github/2303A51755/Data-Mining/blob/main/LAB_1_5_ADM.ipynb\" target=\"_parent\"><img src=\"https://colab.research.google.com/assets/colab-badge.svg\" alt=\"Open In Colab\"/></a>"
      ]
    },
    {
      "cell_type": "code",
      "execution_count": 1,
      "metadata": {
        "colab": {
          "base_uri": "https://localhost:8080/"
        },
        "id": "ddSiWrJDfSvT",
        "outputId": "4e1e8c8f-ed3e-4444-ab1c-5a26c52d22ae"
      },
      "outputs": [
        {
          "output_type": "stream",
          "name": "stdout",
          "text": [
            "Addition Result: 15\n",
            "Multiplication Result: 50\n"
          ]
        }
      ],
      "source": [
        "# Sample Python Code for Google Colab Collaboration\n",
        "\n",
        "def add_numbers(a, b):\n",
        "    \"\"\"Function to add two numbers.\"\"\"\n",
        "    return a + b\n",
        "\n",
        "def multiply_numbers(a, b):\n",
        "    \"\"\"Function to multiply two numbers.\"\"\"\n",
        "    return a * b\n",
        "\n",
        "# Example usage\n",
        "num1 = 10\n",
        "num2 = 5\n",
        "\n",
        "addition_result = add_numbers(num1, num2)\n",
        "multiplication_result = multiply_numbers(num1, num2)\n",
        "\n",
        "print(f\"Addition Result: {addition_result}\")\n",
        "print(f\"Multiplication Result: {multiplication_result}\")\n"
      ]
    }
  ]
}